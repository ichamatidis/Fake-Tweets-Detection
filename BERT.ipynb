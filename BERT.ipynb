{
  "nbformat": 4,
  "nbformat_minor": 0,
  "metadata": {
    "colab": {
      "name": "Bert_fake_tweets.ipynb",
      "provenance": []
    },
    "kernelspec": {
      "name": "python3",
      "display_name": "Python 3"
    },
    "accelerator": "GPU"
  },
  "cells": [
    {
      "cell_type": "code",
      "metadata": {
        "id": "N36nx60YMS89",
        "colab_type": "code",
        "colab": {
          "base_uri": "https://localhost:8080/",
          "height": 340
        },
        "outputId": "873e96f6-6d32-4187-cb69-db0932c39dd6"
      },
      "source": [
        "!pip install transformers"
      ],
      "execution_count": null,
      "outputs": [
        {
          "output_type": "stream",
          "text": [
            "Requirement already satisfied: transformers in /usr/local/lib/python3.6/dist-packages (3.1.0)\n",
            "Requirement already satisfied: tqdm>=4.27 in /usr/local/lib/python3.6/dist-packages (from transformers) (4.41.1)\n",
            "Requirement already satisfied: sentencepiece!=0.1.92 in /usr/local/lib/python3.6/dist-packages (from transformers) (0.1.91)\n",
            "Requirement already satisfied: tokenizers==0.8.1.rc2 in /usr/local/lib/python3.6/dist-packages (from transformers) (0.8.1rc2)\n",
            "Requirement already satisfied: numpy in /usr/local/lib/python3.6/dist-packages (from transformers) (1.18.5)\n",
            "Requirement already satisfied: sacremoses in /usr/local/lib/python3.6/dist-packages (from transformers) (0.0.43)\n",
            "Requirement already satisfied: filelock in /usr/local/lib/python3.6/dist-packages (from transformers) (3.0.12)\n",
            "Requirement already satisfied: packaging in /usr/local/lib/python3.6/dist-packages (from transformers) (20.4)\n",
            "Requirement already satisfied: requests in /usr/local/lib/python3.6/dist-packages (from transformers) (2.23.0)\n",
            "Requirement already satisfied: dataclasses; python_version < \"3.7\" in /usr/local/lib/python3.6/dist-packages (from transformers) (0.7)\n",
            "Requirement already satisfied: regex!=2019.12.17 in /usr/local/lib/python3.6/dist-packages (from transformers) (2019.12.20)\n",
            "Requirement already satisfied: six in /usr/local/lib/python3.6/dist-packages (from sacremoses->transformers) (1.15.0)\n",
            "Requirement already satisfied: joblib in /usr/local/lib/python3.6/dist-packages (from sacremoses->transformers) (0.16.0)\n",
            "Requirement already satisfied: click in /usr/local/lib/python3.6/dist-packages (from sacremoses->transformers) (7.1.2)\n",
            "Requirement already satisfied: pyparsing>=2.0.2 in /usr/local/lib/python3.6/dist-packages (from packaging->transformers) (2.4.7)\n",
            "Requirement already satisfied: idna<3,>=2.5 in /usr/local/lib/python3.6/dist-packages (from requests->transformers) (2.10)\n",
            "Requirement already satisfied: urllib3!=1.25.0,!=1.25.1,<1.26,>=1.21.1 in /usr/local/lib/python3.6/dist-packages (from requests->transformers) (1.24.3)\n",
            "Requirement already satisfied: certifi>=2017.4.17 in /usr/local/lib/python3.6/dist-packages (from requests->transformers) (2020.6.20)\n",
            "Requirement already satisfied: chardet<4,>=3.0.2 in /usr/local/lib/python3.6/dist-packages (from requests->transformers) (3.0.4)\n"
          ],
          "name": "stdout"
        }
      ]
    },
    {
      "cell_type": "code",
      "metadata": {
        "id": "6z7J5Al3Ns6c",
        "colab_type": "code",
        "colab": {
          "base_uri": "https://localhost:8080/",
          "height": 51
        },
        "outputId": "496be6f0-08d1-4b6f-b312-3d23ee9af696"
      },
      "source": [
        "from google.colab import drive\n",
        "import torch\n",
        "import matplotlib.pyplot as plt\n",
        "import pandas as pd\n",
        "\n",
        "from torchtext.data import Field, TabularDataset, BucketIterator, Iterator\n",
        "import torch.nn as nn\n",
        "from transformers import BertTokenizer, BertForSequenceClassification\n",
        "import torch.optim as optim\n",
        "\n",
        "from sklearn.metrics import accuracy_score, classification_report, confusion_matrix\n",
        "import seaborn as sns\n",
        "from sklearn.model_selection import train_test_split"
      ],
      "execution_count": null,
      "outputs": [
        {
          "output_type": "stream",
          "text": [
            "/usr/local/lib/python3.6/dist-packages/statsmodels/tools/_testing.py:19: FutureWarning: pandas.util.testing is deprecated. Use the functions in the public API at pandas.testing instead.\n",
            "  import pandas.util.testing as tm\n"
          ],
          "name": "stderr"
        }
      ]
    },
    {
      "cell_type": "code",
      "metadata": {
        "id": "4gFg39mjN6GY",
        "colab_type": "code",
        "colab": {
          "base_uri": "https://localhost:8080/",
          "height": 34
        },
        "outputId": "ee31649a-1d0e-488e-e457-50214e61939e"
      },
      "source": [
        "drive.mount(\"/content/drive\")"
      ],
      "execution_count": null,
      "outputs": [
        {
          "output_type": "stream",
          "text": [
            "Drive already mounted at /content/drive; to attempt to forcibly remount, call drive.mount(\"/content/drive\", force_remount=True).\n"
          ],
          "name": "stdout"
        }
      ]
    },
    {
      "cell_type": "code",
      "metadata": {
        "id": "RjGfuUzNQk9i",
        "colab_type": "code",
        "colab": {}
      },
      "source": [
        "raw_data_path = \"/content/drive/My Drive/Colab Notebooks/Fake Real Tweets/news.csv\"\n",
        "destination_folder = \"/content/drive/My Drive/Colab Notebooks/Fake Real Tweets\"\n",
        "\n",
        "train_test_ratio = 0.10\n",
        "train_valid_ratio = 0.80\n",
        "\n",
        "first_n_words = 200"
      ],
      "execution_count": null,
      "outputs": []
    },
    {
      "cell_type": "code",
      "metadata": {
        "id": "X04ADRahQ7L2",
        "colab_type": "code",
        "colab": {}
      },
      "source": [
        "def trim_string(x):\n",
        "  x = x.split(maxsplit=first_n_words)\n",
        "  x = ' '.join(x[:first_n_words])\n",
        "  return x"
      ],
      "execution_count": null,
      "outputs": []
    },
    {
      "cell_type": "code",
      "metadata": {
        "id": "pNzaa817Q9fk",
        "colab_type": "code",
        "colab": {}
      },
      "source": [
        "# Read raw data\n",
        "df_raw = pd.read_csv(raw_data_path)\n",
        "\n",
        "# Prepare columns\n",
        "df_raw['label'] = (df_raw['label'] == 'FAKE').astype('int')\n",
        "df_raw['titletext'] = df_raw['title'] + \". \" + df_raw['text']\n",
        "df_raw = df_raw.reindex(columns=['label', 'title', 'text', 'titletext'])\n",
        "\n",
        "# Drop rows with empty text\n",
        "df_raw.drop( df_raw[df_raw.text.str.len() < 5].index, inplace=True)\n",
        "\n",
        "# Trim text and titletext to first_n_words\n",
        "df_raw['text'] = df_raw['text'].apply(trim_string)\n",
        "df_raw['titletext'] = df_raw['titletext'].apply(trim_string) \n",
        "\n",
        "# Split according to label\n",
        "df_real = df_raw[df_raw['label'] == 0]\n",
        "df_fake = df_raw[df_raw['label'] == 1]\n",
        "\n",
        "# Train-test split\n",
        "df_real_full_train, df_real_test = train_test_split(df_real, train_size = train_test_ratio, random_state = 1)\n",
        "df_fake_full_train, df_fake_test = train_test_split(df_fake, train_size = train_test_ratio, random_state = 1)\n",
        "\n",
        "# Train-valid split\n",
        "df_real_train, df_real_valid = train_test_split(df_real_full_train, train_size = train_valid_ratio, random_state = 1)\n",
        "df_fake_train, df_fake_valid = train_test_split(df_fake_full_train, train_size = train_valid_ratio, random_state = 1)\n",
        "\n",
        "# Concatenate splits of different labels\n",
        "df_train = pd.concat([df_real_train, df_fake_train], ignore_index=True, sort=False)\n",
        "df_valid = pd.concat([df_real_valid, df_fake_valid], ignore_index=True, sort=False)\n",
        "df_test = pd.concat([df_real_test, df_fake_test], ignore_index=True, sort=False)\n",
        "\n",
        "# Write preprocessed data\n",
        "df_train.to_csv(destination_folder + '/train.csv', index=False)\n",
        "df_valid.to_csv(destination_folder + '/valid.csv', index=False)\n",
        "df_test.to_csv(destination_folder + '/test.csv', index=False)"
      ],
      "execution_count": null,
      "outputs": []
    },
    {
      "cell_type": "code",
      "metadata": {
        "id": "ZuV7-v-DOQ17",
        "colab_type": "code",
        "colab": {}
      },
      "source": [
        "tokenizer = BertTokenizer.from_pretrained('bert-base-uncased')\n",
        "\n",
        "#Model Parameters\n",
        "MAX_SEQ_LEN = 128\n",
        "PAD_INDEX = tokenizer.convert_tokens_to_ids(tokenizer.pad_token)\n",
        "UNK_INDEX = tokenizer.convert_tokens_to_ids(tokenizer.unk_token)\n",
        "\n",
        "#Fields\n",
        "label_field = Field(sequential=False, use_vocab=False, batch_first=True, dtype=torch.float)\n",
        "text_field = Field(use_vocab=False, tokenize=tokenizer.encode, lower=False, include_lengths=False, batch_first=True,\n",
        "                   fix_length=MAX_SEQ_LEN, pad_token=PAD_INDEX, unk_token=UNK_INDEX)\n",
        "fields = [('label', label_field), ('title', text_field), ('text', text_field), ('titletext', text_field)]"
      ],
      "execution_count": null,
      "outputs": []
    },
    {
      "cell_type": "code",
      "metadata": {
        "id": "YCMmEoKQSBJ1",
        "colab_type": "code",
        "colab": {}
      },
      "source": [
        "device = torch.device(\"cuda\" if torch.cuda.is_available() else \"cpu\")"
      ],
      "execution_count": null,
      "outputs": []
    },
    {
      "cell_type": "code",
      "metadata": {
        "id": "RXNZCAbuPoc_",
        "colab_type": "code",
        "colab": {
          "base_uri": "https://localhost:8080/",
          "height": 187
        },
        "outputId": "ae724078-3215-4fb5-88ff-ea59e7bf1b34"
      },
      "source": [
        "#Data preprocess\n",
        "train, valid, test = TabularDataset.splits(path=destination_folder,train='train.csv', validation='valid.csv',\n",
        "                                           test='test.csv', format='CSV', fields=fields, skip_header=True)\n",
        "train_iter = BucketIterator(train, batch_size=16, sort_key=lambda x: len(x.text),\n",
        "                            device=device, train=True, sort=True, sort_within_batch=True)\n",
        "valid_iter = BucketIterator(valid, batch_size=16, sort_key=lambda x: len(x.text),\n",
        "                            device=device, train=True, sort=True, sort_within_batch=True)\n",
        "test_iter = Iterator(test, batch_size=16, device=device, train=False, shuffle=False, sort=False)"
      ],
      "execution_count": null,
      "outputs": [
        {
          "output_type": "stream",
          "text": [
            "Token indices sequence length is longer than the specified maximum sequence length for this model (704 > 512). Running this sequence through the model will result in indexing errors\n",
            "Token indices sequence length is longer than the specified maximum sequence length for this model (719 > 512). Running this sequence through the model will result in indexing errors\n",
            "Token indices sequence length is longer than the specified maximum sequence length for this model (864 > 512). Running this sequence through the model will result in indexing errors\n",
            "Token indices sequence length is longer than the specified maximum sequence length for this model (883 > 512). Running this sequence through the model will result in indexing errors\n",
            "Token indices sequence length is longer than the specified maximum sequence length for this model (4228 > 512). Running this sequence through the model will result in indexing errors\n",
            "Token indices sequence length is longer than the specified maximum sequence length for this model (4260 > 512). Running this sequence through the model will result in indexing errors\n",
            "Token indices sequence length is longer than the specified maximum sequence length for this model (527 > 512). Running this sequence through the model will result in indexing errors\n",
            "Token indices sequence length is longer than the specified maximum sequence length for this model (532 > 512). Running this sequence through the model will result in indexing errors\n",
            "Token indices sequence length is longer than the specified maximum sequence length for this model (852 > 512). Running this sequence through the model will result in indexing errors\n",
            "Token indices sequence length is longer than the specified maximum sequence length for this model (846 > 512). Running this sequence through the model will result in indexing errors\n"
          ],
          "name": "stderr"
        }
      ]
    },
    {
      "cell_type": "code",
      "metadata": {
        "id": "qFOhX92CRMJx",
        "colab_type": "code",
        "colab": {}
      },
      "source": [
        "class BERT(nn.Module):\n",
        "  def __init__(self):\n",
        "    super(BERT, self).__init__()\n",
        "    options_name = \"bert-base-uncased\"\n",
        "    self.encoder = BertForSequenceClassification.from_pretrained(options_name)\n",
        "  \n",
        "  def forward(self, text, label):\n",
        "    loss, text_fea = self.encoder(text, labels=label)[:2]\n",
        "    return loss, text_fea"
      ],
      "execution_count": null,
      "outputs": []
    },
    {
      "cell_type": "code",
      "metadata": {
        "id": "72xQnkbQR_q0",
        "colab_type": "code",
        "colab": {}
      },
      "source": [
        "#Save load functions\n",
        "def save_checkpoint(save_path, model, valid_loss):\n",
        "\n",
        "  if save_path == None:\n",
        "    return\n",
        "  state_dict = {'model_state_dict':model.state_dict(), 'valid_loss':valid_loss}\n",
        "  torch.save(state_dict, save_path)\n",
        "  print(f'Model saved to ==> {save_path}')\n",
        "\n",
        "def load_checkpoint(load_path, model):\n",
        "  if load_path==None:\n",
        "    return\n",
        "  state_dict = torch.load(load_path, map_location=device)\n",
        "  print(f'Model loaded from <== {load_path}')\n",
        "  model.load_state_dict(state_dict['model_state_dict'])\n",
        "  return state_dict['valid_loss']\n",
        "\n",
        "def save_metrics(save_path, train_loss_list, valid_loss_list, global_steps_list):\n",
        "  if save_path == None:\n",
        "      return\n",
        "  state_dict = {'train_loss_list': train_loss_list,\n",
        "                'valid_loss_list': valid_loss_list,\n",
        "                'global_steps_list': global_steps_list}\n",
        "  torch.save(state_dict, save_path)\n",
        "  print(f'Model saved to ==> {save_path}')\n",
        "\n",
        "\n",
        "def load_metrics(load_path):\n",
        "  if load_path==None:\n",
        "      return\n",
        "  state_dict = torch.load(load_path, map_location=device)\n",
        "  print(f'Model loaded from <== {load_path}')\n",
        "  return state_dict['train_loss_list'], state_dict['valid_loss_list'], state_dict['global_steps_list']"
      ],
      "execution_count": null,
      "outputs": []
    },
    {
      "cell_type": "code",
      "metadata": {
        "id": "PNwT8GVzTmD0",
        "colab_type": "code",
        "colab": {
          "base_uri": "https://localhost:8080/",
          "height": 1000
        },
        "outputId": "7d617a20-c0f9-4802-c62d-dc1b6b05d49a"
      },
      "source": [
        "def train(model, optimizer, \n",
        "          criterion = nn.BCELoss(), \n",
        "          train_loader=train_iter, \n",
        "          valid_loader= valid_iter, \n",
        "          num_epochs=5, \n",
        "          eval_every = len(train_iter)//2,\n",
        "          file_path = destination_folder,\n",
        "          best_valid_loss = float(\"Inf\")):\n",
        "  running_loss = 0.0\n",
        "  valid_running_loss = 0.0\n",
        "  global_step = 0\n",
        "  train_loss_list = []\n",
        "  valid_loss_list = []\n",
        "  global_steps_list = []\n",
        "  sigm = nn.Sigmoid()\n",
        "  model.train()\n",
        "  for epoch in range(num_epochs):\n",
        "    for (labels, title, text, titletext), _ in train_loader:\n",
        "      labels  = labels.type(torch.LongTensor)\n",
        "      labels = labels.to(device)\n",
        "      titletext = titletext.type(torch.LongTensor)\n",
        "      titletext = titletext.to(device)\n",
        "      output = model(titletext, labels)\n",
        "      loss, _ = output\n",
        "      optimizer.zero_grad()\n",
        "      loss.backward()\n",
        "      optimizer.step()\n",
        "\n",
        "      #running values\n",
        "      running_loss += loss.item()\n",
        "      global_step += 1\n",
        "\n",
        "      if global_step % eval_every ==0:\n",
        "        model.eval()\n",
        "        with torch.no_grad():\n",
        "          for (labels, title, text, titletext), _ in valid_loader:\n",
        "            labels = labels.type(torch.LongTensor)           \n",
        "            labels = labels.to(device)\n",
        "            titletext = titletext.type(torch.LongTensor)  \n",
        "            titletext = titletext.to(device)\n",
        "            output = model(titletext, labels)\n",
        "            loss, _ = output \n",
        "            valid_running_loss += loss.item()\n",
        "\n",
        "        average_train_loss = running_loss /eval_every\n",
        "        average_valid_loss = valid_running_loss/ len(valid_loader)\n",
        "        train_loss_list.append(average_train_loss)\n",
        "        valid_loss_list.append(average_valid_loss)\n",
        "        global_steps_list.append(global_step)         \n",
        "\n",
        "        # resetting running values\n",
        "        running_loss = 0.0                \n",
        "        valid_running_loss = 0.0\n",
        "        model.train()\n",
        "\n",
        "        # print progress\n",
        "        print('Epoch [{}/{}], Step [{}/{}], Train Loss: {:.4f}, Valid Loss: {:.4f}'\n",
        "              .format(epoch+1, num_epochs, global_step, num_epochs*len(train_loader),\n",
        "                      average_train_loss, average_valid_loss))\n",
        "        \n",
        "        # checkpoint\n",
        "        if best_valid_loss > average_valid_loss:\n",
        "            best_valid_loss = average_valid_loss\n",
        "            save_checkpoint(file_path + '/' + 'model.pt', model, best_valid_loss)\n",
        "            save_metrics(file_path + '/' + 'metrics.pt', train_loss_list, valid_loss_list, global_steps_list)\n",
        "  save_metrics(file_path + '/' + 'metrics.pt', train_loss_list, valid_loss_list, global_steps_list)\n",
        "  print('Finished Training!')\n",
        "\n",
        "model = BERT().to(device)\n",
        "optimizer = optim.Adam(model.parameters(), lr=2e-5)\n",
        "\n",
        "train(model=model, optimizer=optimizer)"
      ],
      "execution_count": null,
      "outputs": [
        {
          "output_type": "stream",
          "text": [
            "Some weights of the model checkpoint at bert-base-uncased were not used when initializing BertForSequenceClassification: ['cls.predictions.bias', 'cls.predictions.transform.dense.weight', 'cls.predictions.transform.dense.bias', 'cls.predictions.decoder.weight', 'cls.seq_relationship.weight', 'cls.seq_relationship.bias', 'cls.predictions.transform.LayerNorm.weight', 'cls.predictions.transform.LayerNorm.bias']\n",
            "- This IS expected if you are initializing BertForSequenceClassification from the checkpoint of a model trained on another task or with another architecture (e.g. initializing a BertForSequenceClassification model from a BertForPretraining model).\n",
            "- This IS NOT expected if you are initializing BertForSequenceClassification from the checkpoint of a model that you expect to be exactly identical (initializing a BertForSequenceClassification model from a BertForSequenceClassification model).\n",
            "Some weights of BertForSequenceClassification were not initialized from the model checkpoint at bert-base-uncased and are newly initialized: ['classifier.weight', 'classifier.bias']\n",
            "You should probably TRAIN this model on a down-stream task to be able to use it for predictions and inference.\n"
          ],
          "name": "stderr"
        },
        {
          "output_type": "stream",
          "text": [
            "Loss pre 0.6464511156082153\n",
            "Loss post 0.6562103033065796\n",
            "Loss pre 0.6597668528556824\n",
            "Loss post 0.6592079997062683\n",
            "Loss pre 0.6736813187599182\n",
            "Loss post 0.6623269319534302\n",
            "Loss pre 0.6572937369346619\n",
            "Loss post 0.6586522459983826\n",
            "Loss pre 0.6656882166862488\n",
            "Loss post 0.6605370044708252\n",
            "Loss pre 0.6575949192047119\n",
            "Loss post 0.6587199568748474\n",
            "Loss pre 0.6573523879051208\n",
            "Loss post 0.6586653590202332\n",
            "Loss pre 0.660487711429596\n",
            "Loss post 0.659369945526123\n",
            "Epoch [1/5], Step [16/160], Train Loss: 0.6808, Valid Loss: 0.6592\n",
            "Model saved to ==> /content/drive/My Drive/Colab Notebooks/Fake Real Tweets/model.pt\n",
            "Model saved to ==> /content/drive/My Drive/Colab Notebooks/Fake Real Tweets/metrics.pt\n",
            "Loss pre 0.6410796642303467\n",
            "Loss post 0.6549975275993347\n",
            "Loss pre 0.6364551186561584\n",
            "Loss post 0.6539517045021057\n",
            "Loss pre 0.6454771757125854\n",
            "Loss post 0.6559906005859375\n",
            "Loss pre 0.6521772742271423\n",
            "Loss post 0.6575009226799011\n",
            "Loss pre 0.6448732018470764\n",
            "Loss post 0.6558542251586914\n",
            "Loss pre 0.6453251838684082\n",
            "Loss post 0.6559562087059021\n",
            "Loss pre 0.6363194584846497\n",
            "Loss post 0.6539209485054016\n",
            "Loss pre 0.636277437210083\n",
            "Loss post 0.6539114713668823\n",
            "Epoch [1/5], Step [32/160], Train Loss: 0.6633, Valid Loss: 0.6553\n",
            "Model saved to ==> /content/drive/My Drive/Colab Notebooks/Fake Real Tweets/model.pt\n",
            "Model saved to ==> /content/drive/My Drive/Colab Notebooks/Fake Real Tweets/metrics.pt\n",
            "Loss pre 0.6064608097076416\n",
            "Loss post 0.6471329927444458\n",
            "Loss pre 0.6113626956939697\n",
            "Loss post 0.6482515931129456\n",
            "Loss pre 0.5934374332427979\n",
            "Loss post 0.6441534161567688\n",
            "Loss pre 0.5936169028282166\n",
            "Loss post 0.6441946029663086\n",
            "Loss pre 0.6165410876274109\n",
            "Loss post 0.6494314670562744\n",
            "Loss pre 0.5994877815246582\n",
            "Loss post 0.6455391049385071\n",
            "Loss pre 0.5949295163154602\n",
            "Loss post 0.64449542760849\n",
            "Loss pre 0.5979157090187073\n",
            "Loss post 0.6451793313026428\n",
            "Epoch [2/5], Step [48/160], Train Loss: 0.6634, Valid Loss: 0.6460\n",
            "Model saved to ==> /content/drive/My Drive/Colab Notebooks/Fake Real Tweets/model.pt\n",
            "Model saved to ==> /content/drive/My Drive/Colab Notebooks/Fake Real Tweets/metrics.pt\n",
            "Loss pre 0.5845515727996826\n",
            "Loss post 0.6421141028404236\n",
            "Loss pre 0.4345909655094147\n",
            "Loss post 0.60696941614151\n",
            "Loss pre 0.40026581287384033\n",
            "Loss post 0.5987514853477478\n",
            "Loss pre 0.596983015537262\n",
            "Loss post 0.6449657678604126\n",
            "Loss pre 0.48385581374168396\n",
            "Loss post 0.6186579465866089\n",
            "Loss pre 0.527736246585846\n",
            "Loss post 0.6289550065994263\n",
            "Loss pre 0.4782335162162781\n",
            "Loss post 0.6173306703567505\n",
            "Loss pre 0.4958752989768982\n",
            "Loss post 0.6214895248413086\n",
            "Epoch [2/5], Step [64/160], Train Loss: 0.6379, Valid Loss: 0.6224\n",
            "Model saved to ==> /content/drive/My Drive/Colab Notebooks/Fake Real Tweets/model.pt\n",
            "Model saved to ==> /content/drive/My Drive/Colab Notebooks/Fake Real Tweets/metrics.pt\n",
            "Loss pre 0.3905182480812073\n",
            "Loss post 0.5964074730873108\n",
            "Loss pre 0.7547386884689331\n",
            "Loss post 0.6802103519439697\n",
            "Loss pre 0.8031579256057739\n",
            "Loss post 0.6906496286392212\n",
            "Loss pre 0.35733821988105774\n",
            "Loss post 0.5883959531784058\n",
            "Loss pre 0.7301954030990601\n",
            "Loss post 0.6748481392860413\n",
            "Loss pre 0.37645524740219116\n",
            "Loss post 0.5930178761482239\n",
            "Loss pre 0.5386120080947876\n",
            "Loss post 0.6314895153045654\n",
            "Loss pre 0.24082587659358978\n",
            "Loss post 0.559917151927948\n",
            "Epoch [3/5], Step [80/160], Train Loss: 0.6138, Valid Loss: 0.6269\n",
            "Loss pre 0.1865699589252472\n",
            "Loss post 0.5465076565742493\n",
            "Loss pre 0.24490459263324738\n",
            "Loss post 0.5609219670295715\n",
            "Loss pre 0.2747960388660431\n",
            "Loss post 0.5682699680328369\n",
            "Loss pre 0.2452494502067566\n",
            "Loss post 0.5610069036483765\n",
            "Loss pre 0.36067530512809753\n",
            "Loss post 0.5892038941383362\n",
            "Loss pre 0.31095749139785767\n",
            "Loss post 0.5771189332008362\n",
            "Loss pre 0.4062756299972534\n",
            "Loss post 0.60019451379776\n",
            "Loss pre 0.10317979007959366\n",
            "Loss post 0.5257720947265625\n",
            "Epoch [3/5], Step [96/160], Train Loss: 0.5557, Valid Loss: 0.5661\n",
            "Model saved to ==> /content/drive/My Drive/Colab Notebooks/Fake Real Tweets/model.pt\n",
            "Model saved to ==> /content/drive/My Drive/Colab Notebooks/Fake Real Tweets/metrics.pt\n",
            "Loss pre 0.08365793526172638\n",
            "Loss post 0.5209022760391235\n",
            "Loss pre 0.3488887846469879\n",
            "Loss post 0.5863481163978577\n",
            "Loss pre 0.23313464224338531\n",
            "Loss post 0.558021068572998\n",
            "Loss pre 0.10768375545740128\n",
            "Loss post 0.5268949270248413\n",
            "Loss pre 0.6433160901069641\n",
            "Loss post 0.6555026769638062\n",
            "Loss pre 0.11984506249427795\n",
            "Loss post 0.5299254655838013\n",
            "Loss pre 0.401595801115036\n",
            "Loss post 0.5990710258483887\n",
            "Loss pre 0.0334884375333786\n",
            "Loss post 0.5083713531494141\n",
            "Epoch [4/5], Step [112/160], Train Loss: 0.5525, Valid Loss: 0.5606\n",
            "Model saved to ==> /content/drive/My Drive/Colab Notebooks/Fake Real Tweets/model.pt\n",
            "Model saved to ==> /content/drive/My Drive/Colab Notebooks/Fake Real Tweets/metrics.pt\n",
            "Loss pre 0.1212875097990036\n",
            "Loss post 0.5302847623825073\n",
            "Loss pre 0.13246867060661316\n",
            "Loss post 0.533068835735321\n",
            "Loss pre 0.2098807841539383\n",
            "Loss post 0.552278459072113\n",
            "Loss pre 0.18052493035793304\n",
            "Loss post 0.5450090765953064\n",
            "Loss pre 0.2925545871257782\n",
            "Loss post 0.5726214647293091\n",
            "Loss pre 0.43643471598625183\n",
            "Loss post 0.6074091196060181\n",
            "Loss pre 0.27466586232185364\n",
            "Loss post 0.5682380199432373\n",
            "Loss pre 0.27351394295692444\n",
            "Loss post 0.5679553747177124\n",
            "Epoch [4/5], Step [128/160], Train Loss: 0.5278, Valid Loss: 0.5596\n",
            "Model saved to ==> /content/drive/My Drive/Colab Notebooks/Fake Real Tweets/model.pt\n",
            "Model saved to ==> /content/drive/My Drive/Colab Notebooks/Fake Real Tweets/metrics.pt\n",
            "Loss pre 0.07645584642887115\n",
            "Loss post 0.5191046595573425\n",
            "Loss pre 0.16141080856323242\n",
            "Loss post 0.5402653217315674\n",
            "Loss pre 0.22290408611297607\n",
            "Loss post 0.5554963946342468\n",
            "Loss pre 0.055968400090932846\n",
            "Loss post 0.5139884352684021\n",
            "Loss pre 0.3841235935688019\n",
            "Loss post 0.5948672890663147\n",
            "Loss pre 0.33599957823753357\n",
            "Loss post 0.5832184553146362\n",
            "Loss pre 0.2347095012664795\n",
            "Loss post 0.5584094524383545\n",
            "Loss pre 0.22920283675193787\n",
            "Loss post 0.5570511817932129\n",
            "Epoch [5/5], Step [144/160], Train Loss: 0.5285, Valid Loss: 0.5528\n",
            "Model saved to ==> /content/drive/My Drive/Colab Notebooks/Fake Real Tweets/model.pt\n",
            "Model saved to ==> /content/drive/My Drive/Colab Notebooks/Fake Real Tweets/metrics.pt\n",
            "Loss pre 0.12349814921617508\n",
            "Loss post 0.5308353304862976\n",
            "Loss pre 0.3200919032096863\n",
            "Loss post 0.5793466567993164\n",
            "Loss pre 0.3077053427696228\n",
            "Loss post 0.5763250589370728\n",
            "Loss pre 0.016281910240650177\n",
            "Loss post 0.5040703415870667\n",
            "Loss pre 0.59527587890625\n",
            "Loss post 0.644574761390686\n",
            "Loss pre 0.215650275349617\n",
            "Loss post 0.5537046194076538\n",
            "Loss pre 0.28753477334976196\n",
            "Loss post 0.5713925361633301\n",
            "Loss pre 0.12592962384223938\n",
            "Loss post 0.5314408540725708\n",
            "Epoch [5/5], Step [160/160], Train Loss: 0.5095, Valid Loss: 0.5615\n",
            "Model saved to ==> /content/drive/My Drive/Colab Notebooks/Fake Real Tweets/metrics.pt\n",
            "Finished Training!\n"
          ],
          "name": "stdout"
        }
      ]
    },
    {
      "cell_type": "code",
      "metadata": {
        "id": "oUDf1uJEZ0D4",
        "colab_type": "code",
        "colab": {
          "base_uri": "https://localhost:8080/",
          "height": 296
        },
        "outputId": "1758e740-f8b6-48d7-8604-d28f3bf3e52e"
      },
      "source": [
        "train_loss_list, valid_loss_list, global_steps_list = load_metrics(destination_folder+'/metrics.pt')\n",
        "plt.plot(global_steps_list, train_loss_list, label='Train')\n",
        "plt.plot(global_steps_list, valid_loss_list, label='Valid')\n",
        "plt.xlabel('Global Steps')\n",
        "plt.ylabel('Loss')\n",
        "plt.legend()\n",
        "plt.show() "
      ],
      "execution_count": null,
      "outputs": [
        {
          "output_type": "stream",
          "text": [
            "Model loaded from <== /content/drive/My Drive/Colab Notebooks/Fake Real Tweets/metrics.pt\n"
          ],
          "name": "stdout"
        },
        {
          "output_type": "display_data",
          "data": {
            "image/png": "[encoded data removed]",
            "text/plain": [
              "<Figure size 432x288 with 1 Axes>"
            ]
          },
          "metadata": {
            "tags": [],
            "needs_background": "light"
          }
        }
      ]
    },
    {
      "cell_type": "code",
      "metadata": {
        "id": "mTI_KFUraKhP",
        "colab_type": "code",
        "colab": {
          "base_uri": "https://localhost:8080/",
          "height": 587
        },
        "outputId": "0d579787-8e86-43ce-8c05-72da2035306c"
      },
      "source": [
        "def evaluate(model, test_loader):\n",
        "    y_pred = []\n",
        "    y_true = []\n",
        "\n",
        "    model.eval()\n",
        "    with torch.no_grad():\n",
        "        for (labels, title, text, titletext), _ in test_loader:\n",
        "\n",
        "                labels = labels.type(torch.LongTensor)           \n",
        "                labels = labels.to(device)\n",
        "                titletext = titletext.type(torch.LongTensor)  \n",
        "                titletext = titletext.to(device)\n",
        "                output = model(titletext, labels)\n",
        "\n",
        "                _, output = output\n",
        "                y_pred.extend(torch.argmax(output, 1).tolist())\n",
        "                y_true.extend(labels.tolist())\n",
        "    \n",
        "    print('Classification Report:')\n",
        "    print(classification_report(y_true, y_pred, labels=[1,0], digits=4))\n",
        "    \n",
        "    cm = confusion_matrix(y_true, y_pred, labels=[1,0])\n",
        "    ax= plt.subplot()\n",
        "    sns.heatmap(cm, annot=True, ax = ax, cmap='Blues', fmt=\"d\")\n",
        "\n",
        "    ax.set_title('Confusion Matrix')\n",
        "\n",
        "    ax.set_xlabel('Predicted Labels')\n",
        "    ax.set_ylabel('True Labels')\n",
        "\n",
        "    ax.xaxis.set_ticklabels(['FAKE', 'REAL'])\n",
        "    ax.yaxis.set_ticklabels(['FAKE', 'REAL'])\n",
        "    \n",
        "best_model = BERT().to(device)\n",
        "\n",
        "load_checkpoint(destination_folder + '/model.pt', best_model)\n",
        "\n",
        "evaluate(best_model, test_iter)"
      ],
      "execution_count": null,
      "outputs": [
        {
          "output_type": "stream",
          "text": [
            "Some weights of the model checkpoint at bert-base-uncased were not used when initializing BertForSequenceClassification: ['cls.predictions.bias', 'cls.predictions.transform.dense.weight', 'cls.predictions.transform.dense.bias', 'cls.predictions.decoder.weight', 'cls.seq_relationship.weight', 'cls.seq_relationship.bias', 'cls.predictions.transform.LayerNorm.weight', 'cls.predictions.transform.LayerNorm.bias']\n",
            "- This IS expected if you are initializing BertForSequenceClassification from the checkpoint of a model trained on another task or with another architecture (e.g. initializing a BertForSequenceClassification model from a BertForPretraining model).\n",
            "- This IS NOT expected if you are initializing BertForSequenceClassification from the checkpoint of a model that you expect to be exactly identical (initializing a BertForSequenceClassification model from a BertForSequenceClassification model).\n",
            "Some weights of BertForSequenceClassification were not initialized from the model checkpoint at bert-base-uncased and are newly initialized: ['classifier.weight', 'classifier.bias']\n",
            "You should probably TRAIN this model on a down-stream task to be able to use it for predictions and inference.\n"
          ],
          "name": "stderr"
        },
        {
          "output_type": "stream",
          "text": [
            "Model loaded from <== /content/drive/My Drive/Colab Notebooks/Fake Real Tweets/model.pt\n",
            "Classification Report:\n",
            "              precision    recall  f1-score   support\n",
            "\n",
            "           1     0.9829    0.8594    0.9170      2816\n",
            "           0     0.8766    0.9853    0.9277      2854\n",
            "\n",
            "    accuracy                         0.9228      5670\n",
            "   macro avg     0.9297    0.9223    0.9224      5670\n",
            "weighted avg     0.9294    0.9228    0.9224      5670\n",
            "\n"
          ],
          "name": "stdout"
        },
        {
          "output_type": "display_data",
          "data": {
            "image/png": "[encoded data removed]",
            "text/plain": [
              "<Figure size 432x288 with 2 Axes>"
            ]
          },
          "metadata": {
            "tags": [],
            "needs_background": "light"
          }
        }
      ]
    }
  ]
}