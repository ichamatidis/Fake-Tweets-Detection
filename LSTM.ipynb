{
  "nbformat": 4,
  "nbformat_minor": 0,
  "metadata": {
    "colab": {
      "name": "LSTM_fake_news.ipynb",
      "provenance": []
    },
    "kernelspec": {
      "name": "python3",
      "display_name": "Python 3"
    },
    "accelerator": "GPU"
  },
  "cells": [
    {
      "cell_type": "code",
      "metadata": {
        "id": "UP11WMIMuL6O",
        "outputId": "b5d15bf6-0a7a-4abb-a29c-d820ddf1759f",
        "colab": {
          "base_uri": "https://localhost:8080/",
          "height": 51
        }
      },
      "source": [
        "from google.colab import drive\n",
        "import torch\n",
        "import matplotlib.pyplot as plt\n",
        "import pandas as pd\n",
        "\n",
        "from torchtext.data import Field, TabularDataset, BucketIterator, Iterator\n",
        "import torch.nn as nn\n",
        "import torch.optim as optim\n",
        "\n",
        "from sklearn.metrics import accuracy_score, classification_report, confusion_matrix\n",
        "import seaborn as sns\n",
        "from sklearn.model_selection import train_test_split"
      ],
      "execution_count": null,
      "outputs": [
        {
          "output_type": "stream",
          "text": [
            "/usr/local/lib/python3.6/dist-packages/statsmodels/tools/_testing.py:19: FutureWarning: pandas.util.testing is deprecated. Use the functions in the public API at pandas.testing instead.\n",
            "  import pandas.util.testing as tm\n"
          ],
          "name": "stderr"
        }
      ]
    },
    {
      "cell_type": "code",
      "metadata": {
        "id": "vQc5hcddutEK",
        "outputId": "2a34598a-a7bb-44ca-cf2c-c49736af1411",
        "colab": {
          "base_uri": "https://localhost:8080/",
          "height": 34
        }
      },
      "source": [
        "drive.mount(\"/content/drive\")\n",
        "raw_data_path = \"/content/drive/My Drive/Colab Notebooks/Fake Real Tweets/news.csv\"\n",
        "destination_folder = \"/content/drive/My Drive/Colab Notebooks/Fake Real Tweets\"\n",
        "\n",
        "train_test_ratio = 0.10\n",
        "train_valid_ratio = 0.80\n",
        "\n",
        "first_n_words = 200"
      ],
      "execution_count": null,
      "outputs": [
        {
          "output_type": "stream",
          "text": [
            "Mounted at /content/drive\n"
          ],
          "name": "stdout"
        }
      ]
    },
    {
      "cell_type": "code",
      "metadata": {
        "id": "78WhAYOvva_L"
      },
      "source": [
        "def trim_string(x):\n",
        "    x = x.split(maxsplit=first_n_words)\n",
        "    x = ' '.join(x[:first_n_words])\n",
        "    return x"
      ],
      "execution_count": null,
      "outputs": []
    },
    {
      "cell_type": "code",
      "metadata": {
        "id": "oRtR9sRsuymg"
      },
      "source": [
        "# Read raw data\n",
        "df_raw = pd.read_csv(raw_data_path)\n",
        "\n",
        "# Prepare columns\n",
        "df_raw['label'] = (df_raw['label'] == 'FAKE').astype('int')\n",
        "df_raw['titletext'] = df_raw['title'] + \". \" + df_raw['text']\n",
        "df_raw = df_raw.reindex(columns=['label', 'title', 'text', 'titletext'])\n",
        "\n",
        "# Drop rows with empty text\n",
        "df_raw.drop( df_raw[df_raw.text.str.len() < 5].index, inplace=True)\n",
        "\n",
        "# Trim text and titletext to first_n_words\n",
        "df_raw['text'] = df_raw['text'].apply(trim_string)\n",
        "df_raw['titletext'] = df_raw['titletext'].apply(trim_string) \n",
        "\n",
        "# Split according to label\n",
        "df_real = df_raw[df_raw['label'] == 0]\n",
        "df_fake = df_raw[df_raw['label'] == 1]\n",
        "\n",
        "# Train-test split\n",
        "df_real_full_train, df_real_test = train_test_split(df_real, train_size = train_test_ratio, random_state = 1)\n",
        "df_fake_full_train, df_fake_test = train_test_split(df_fake, train_size = train_test_ratio, random_state = 1)\n",
        "\n",
        "# Train-valid split\n",
        "df_real_train, df_real_valid = train_test_split(df_real_full_train, train_size = train_valid_ratio, random_state = 1)\n",
        "df_fake_train, df_fake_valid = train_test_split(df_fake_full_train, train_size = train_valid_ratio, random_state = 1)\n",
        "\n",
        "# Concatenate splits of different labels\n",
        "df_train = pd.concat([df_real_train, df_fake_train], ignore_index=True, sort=False)\n",
        "df_valid = pd.concat([df_real_valid, df_fake_valid], ignore_index=True, sort=False)\n",
        "df_test = pd.concat([df_real_test, df_fake_test], ignore_index=True, sort=False)\n",
        "\n",
        "# Write preprocessed data\n",
        "df_train.to_csv(destination_folder + '/train.csv', index=False)\n",
        "df_valid.to_csv(destination_folder + '/valid.csv', index=False)\n",
        "df_test.to_csv(destination_folder + '/test.csv', index=False)"
      ],
      "execution_count": null,
      "outputs": []
    },
    {
      "cell_type": "code",
      "metadata": {
        "id": "W1KunRfUveZZ"
      },
      "source": [
        "from torch.nn.utils.rnn import pack_padded_sequence, pad_packed_sequence\n",
        "device = 'cuda' if torch.cuda.is_available() else 'cpu'"
      ],
      "execution_count": null,
      "outputs": []
    },
    {
      "cell_type": "code",
      "metadata": {
        "id": "ycnat9NIvtnP"
      },
      "source": [
        "# Fields\n",
        "\n",
        "label_field = Field(sequential=False, use_vocab=False, batch_first=True, dtype=torch.float)\n",
        "text_field = Field(tokenize='spacy', lower=True, include_lengths=True, batch_first=True)\n",
        "fields = [('label', label_field), ('title', text_field), ('text', text_field), ('titletext', text_field)]\n",
        "\n",
        "# TabularDataset\n",
        "\n",
        "train, valid, test = TabularDataset.splits(path=destination_folder, train='train.csv', validation='valid.csv', test='test.csv',\n",
        "                                           format='CSV', fields=fields, skip_header=True)\n",
        "\n",
        "# Iterators\n",
        "\n",
        "train_iter = BucketIterator(train, batch_size=32, sort_key=lambda x: len(x.text),\n",
        "                            device=device, sort=True, sort_within_batch=True)\n",
        "valid_iter = BucketIterator(valid, batch_size=32, sort_key=lambda x: len(x.text),\n",
        "                            device=device, sort=True, sort_within_batch=True)\n",
        "test_iter = BucketIterator(test, batch_size=32, sort_key=lambda x: len(x.text),\n",
        "                            device=device, sort=True, sort_within_batch=True)\n",
        "\n",
        "# Vocabulary\n",
        "\n",
        "text_field.build_vocab(train, min_freq=3)"
      ],
      "execution_count": null,
      "outputs": []
    },
    {
      "cell_type": "code",
      "metadata": {
        "id": "tq1stlVIv-lQ"
      },
      "source": [
        "class LSTM(nn.Module):\n",
        "  def __init__(self, dimension=128):\n",
        "    super(LSTM, self).__init__()\n",
        "    self.embedding = nn.Embedding(len(text_field.vocab), 300)\n",
        "    self.dimension = dimension\n",
        "    self.lstm = nn.LSTM(input_size=300,\n",
        "                        hidden_size=dimension,\n",
        "                        num_layers=1,\n",
        "                        batch_first=True,\n",
        "                        bidirectional=True)\n",
        "    self.drop = nn.Dropout(p=0.5)\n",
        "    self.fc = nn.Linear(2*dimension,1)\n",
        "  \n",
        "  def forward(self, text, text_len):\n",
        "        text_emb = self.embedding(text)\n",
        "        packed_input = pack_padded_sequence(text_emb, text_len, batch_first=True, enforce_sorted=False)\n",
        "        packed_output, _ = self.lstm(packed_input)\n",
        "        output, _ = pad_packed_sequence(packed_output, batch_first=True)\n",
        "\n",
        "        out_forward = output[range(len(output)), text_len - 1, :self.dimension]\n",
        "        out_reverse = output[:, 0, self.dimension:]\n",
        "        out_reduced = torch.cat((out_forward, out_reverse), 1)\n",
        "        text_fea = self.drop(out_reduced)\n",
        "\n",
        "        text_fea = self.fc(text_fea)\n",
        "        text_fea = torch.squeeze(text_fea, 1)\n",
        "        text_out = torch.sigmoid(text_fea)\n",
        "\n",
        "        return text_out  "
      ],
      "execution_count": null,
      "outputs": []
    },
    {
      "cell_type": "code",
      "metadata": {
        "id": "U1XCsa1bynai"
      },
      "source": [
        "def save_checkpoint(save_path, model, valid_loss):\n",
        "\n",
        "  if save_path == None:\n",
        "    return\n",
        "  state_dict = {'model_state_dict':model.state_dict(), 'valid_loss':valid_loss}\n",
        "  torch.save(state_dict, save_path)\n",
        "  print(f'Model saved to ==> {save_path}')\n",
        "\n",
        "def load_checkpoint(load_path, model):\n",
        "  if load_path==None:\n",
        "    return\n",
        "  state_dict = torch.load(load_path, map_location=device)\n",
        "  print(f'Model loaded from <== {load_path}')\n",
        "  model.load_state_dict(state_dict['model_state_dict'])\n",
        "  return state_dict['valid_loss']\n",
        "\n",
        "def save_metrics(save_path, train_loss_list, valid_loss_list, global_steps_list):\n",
        "  if save_path == None:\n",
        "      return\n",
        "  state_dict = {'train_loss_list': train_loss_list,\n",
        "                'valid_loss_list': valid_loss_list,\n",
        "                'global_steps_list': global_steps_list}\n",
        "  torch.save(state_dict, save_path)\n",
        "  print(f'Model saved to ==> {save_path}')\n",
        "\n",
        "\n",
        "def load_metrics(load_path):\n",
        "  if load_path==None:\n",
        "      return\n",
        "  state_dict = torch.load(load_path, map_location=device)\n",
        "  print(f'Model loaded from <== {load_path}')\n",
        "  return state_dict['train_loss_list'], state_dict['valid_loss_list'], state_dict['global_steps_list']"
      ],
      "execution_count": null,
      "outputs": []
    },
    {
      "cell_type": "code",
      "metadata": {
        "id": "VOSMfk90ywc8",
        "outputId": "973258fd-5c51-4306-85d6-1260b0dd229a",
        "colab": {
          "base_uri": "https://localhost:8080/",
          "height": 731
        }
      },
      "source": [
        "def train(model,\n",
        "          optimizer,\n",
        "          criterion = nn.BCELoss(),\n",
        "          train_loader = train_iter,\n",
        "          valid_loader = valid_iter,\n",
        "          num_epochs = 5,\n",
        "          eval_every = len(train_iter) // 2,\n",
        "          file_path = destination_folder,\n",
        "          best_valid_loss = float(\"Inf\")):\n",
        "    \n",
        "    # initialize running values\n",
        "    running_loss = 0.0\n",
        "    valid_running_loss = 0.0\n",
        "    global_step = 0\n",
        "    train_loss_list = []\n",
        "    valid_loss_list = []\n",
        "    global_steps_list = []\n",
        "\n",
        "    # training loop\n",
        "    model.train()\n",
        "    for epoch in range(num_epochs):\n",
        "        for (labels, (title, title_len), (text, text_len), (titletext, titletext_len)), _ in train_loader:           \n",
        "            labels = labels.to(device)\n",
        "            titletext = titletext.to(device)\n",
        "            titletext_len = titletext_len.to(device)\n",
        "            output = model(titletext, titletext_len)\n",
        "\n",
        "            loss = criterion(output, labels)\n",
        "            optimizer.zero_grad()\n",
        "            loss.backward()\n",
        "            optimizer.step()\n",
        "\n",
        "            # update running values\n",
        "            running_loss += loss.item()\n",
        "            global_step += 1\n",
        "\n",
        "            # evaluation step\n",
        "            if global_step % eval_every == 0:\n",
        "                model.eval()\n",
        "                with torch.no_grad():                    \n",
        "                  # validation loop\n",
        "                  for (labels, (title, title_len), (text, text_len), (titletext, titletext_len)), _ in valid_loader:\n",
        "                      labels = labels.to(device)\n",
        "                      titletext = titletext.to(device)\n",
        "                      titletext_len = titletext_len.to(device)\n",
        "                      output = model(titletext, titletext_len)\n",
        "\n",
        "                      loss = criterion(output, labels)\n",
        "                      valid_running_loss += loss.item()\n",
        "\n",
        "                # evaluation\n",
        "                average_train_loss = running_loss / eval_every\n",
        "                average_valid_loss = valid_running_loss / len(valid_loader)\n",
        "                train_loss_list.append(average_train_loss)\n",
        "                valid_loss_list.append(average_valid_loss)\n",
        "                global_steps_list.append(global_step)\n",
        "\n",
        "                # resetting running values\n",
        "                running_loss = 0.0                \n",
        "                valid_running_loss = 0.0\n",
        "                model.train()\n",
        "\n",
        "                # print progress\n",
        "                print('Epoch [{}/{}], Step [{}/{}], Train Loss: {:.4f}, Valid Loss: {:.4f}'\n",
        "                      .format(epoch+1, num_epochs, global_step, num_epochs*len(train_loader),\n",
        "                              average_train_loss, average_valid_loss))\n",
        "                \n",
        "                # checkpoint\n",
        "                if best_valid_loss > average_valid_loss:\n",
        "                    best_valid_loss = average_valid_loss\n",
        "                    save_checkpoint(file_path + '/model.pt', model,best_valid_loss)\n",
        "                    save_metrics(file_path + '/metrics.pt', train_loss_list, valid_loss_list, global_steps_list)\n",
        "    \n",
        "    save_metrics(file_path + '/metrics.pt', train_loss_list, valid_loss_list, global_steps_list)\n",
        "    print('Finished Training!')\n",
        "\n",
        "\n",
        "model = LSTM().to(device)\n",
        "optimizer = optim.Adam(model.parameters(), lr=0.001)\n",
        "\n",
        "train(model=model, optimizer=optimizer, num_epochs=10)"
      ],
      "execution_count": null,
      "outputs": [
        {
          "output_type": "stream",
          "text": [
            "Epoch [1/10], Step [8/160], Train Loss: 0.6911, Valid Loss: 0.6777\n",
            "Model saved to ==> /content/drive/My Drive/Colab Notebooks/Fake Real Tweets/model.pt\n",
            "Model saved to ==> /content/drive/My Drive/Colab Notebooks/Fake Real Tweets/metrics.pt\n",
            "Epoch [1/10], Step [16/160], Train Loss: 0.6945, Valid Loss: 0.6617\n",
            "Model saved to ==> /content/drive/My Drive/Colab Notebooks/Fake Real Tweets/model.pt\n",
            "Model saved to ==> /content/drive/My Drive/Colab Notebooks/Fake Real Tweets/metrics.pt\n",
            "Epoch [2/10], Step [24/160], Train Loss: 0.5781, Valid Loss: 0.6486\n",
            "Model saved to ==> /content/drive/My Drive/Colab Notebooks/Fake Real Tweets/model.pt\n",
            "Model saved to ==> /content/drive/My Drive/Colab Notebooks/Fake Real Tweets/metrics.pt\n",
            "Epoch [2/10], Step [32/160], Train Loss: 0.5909, Valid Loss: 0.6350\n",
            "Model saved to ==> /content/drive/My Drive/Colab Notebooks/Fake Real Tweets/model.pt\n",
            "Model saved to ==> /content/drive/My Drive/Colab Notebooks/Fake Real Tweets/metrics.pt\n",
            "Epoch [3/10], Step [40/160], Train Loss: 0.4780, Valid Loss: 0.6228\n",
            "Model saved to ==> /content/drive/My Drive/Colab Notebooks/Fake Real Tweets/model.pt\n",
            "Model saved to ==> /content/drive/My Drive/Colab Notebooks/Fake Real Tweets/metrics.pt\n",
            "Epoch [3/10], Step [48/160], Train Loss: 0.4820, Valid Loss: 0.6106\n",
            "Model saved to ==> /content/drive/My Drive/Colab Notebooks/Fake Real Tweets/model.pt\n",
            "Model saved to ==> /content/drive/My Drive/Colab Notebooks/Fake Real Tweets/metrics.pt\n",
            "Epoch [4/10], Step [56/160], Train Loss: 0.3759, Valid Loss: 0.5996\n",
            "Model saved to ==> /content/drive/My Drive/Colab Notebooks/Fake Real Tweets/model.pt\n",
            "Model saved to ==> /content/drive/My Drive/Colab Notebooks/Fake Real Tweets/metrics.pt\n",
            "Epoch [4/10], Step [64/160], Train Loss: 0.3493, Valid Loss: 0.5607\n",
            "Model saved to ==> /content/drive/My Drive/Colab Notebooks/Fake Real Tweets/model.pt\n",
            "Model saved to ==> /content/drive/My Drive/Colab Notebooks/Fake Real Tweets/metrics.pt\n",
            "Epoch [5/10], Step [72/160], Train Loss: 0.2172, Valid Loss: 0.5234\n",
            "Model saved to ==> /content/drive/My Drive/Colab Notebooks/Fake Real Tweets/model.pt\n",
            "Model saved to ==> /content/drive/My Drive/Colab Notebooks/Fake Real Tweets/metrics.pt\n",
            "Epoch [5/10], Step [80/160], Train Loss: 0.1864, Valid Loss: 0.6487\n",
            "Epoch [6/10], Step [88/160], Train Loss: 0.1055, Valid Loss: 0.4721\n",
            "Model saved to ==> /content/drive/My Drive/Colab Notebooks/Fake Real Tweets/model.pt\n",
            "Model saved to ==> /content/drive/My Drive/Colab Notebooks/Fake Real Tweets/metrics.pt\n",
            "Epoch [6/10], Step [96/160], Train Loss: 0.0779, Valid Loss: 0.5150\n",
            "Epoch [7/10], Step [104/160], Train Loss: 0.0454, Valid Loss: 0.5189\n",
            "Epoch [7/10], Step [112/160], Train Loss: 0.0432, Valid Loss: 0.6574\n",
            "Epoch [8/10], Step [120/160], Train Loss: 0.0369, Valid Loss: 0.4982\n",
            "Epoch [8/10], Step [128/160], Train Loss: 0.0265, Valid Loss: 0.4741\n",
            "Epoch [9/10], Step [136/160], Train Loss: 0.0213, Valid Loss: 0.6506\n",
            "Epoch [9/10], Step [144/160], Train Loss: 0.0136, Valid Loss: 0.4840\n",
            "Epoch [10/10], Step [152/160], Train Loss: 0.0114, Valid Loss: 0.5120\n",
            "Epoch [10/10], Step [160/160], Train Loss: 0.0059, Valid Loss: 0.5847\n",
            "Model saved to ==> /content/drive/My Drive/Colab Notebooks/Fake Real Tweets/metrics.pt\n",
            "Finished Training!\n"
          ],
          "name": "stdout"
        }
      ]
    },
    {
      "cell_type": "code",
      "metadata": {
        "id": "fz3fKm_dy_N_",
        "outputId": "0af15a46-17dc-4b64-8e84-08d9e61a1e2e",
        "colab": {
          "base_uri": "https://localhost:8080/",
          "height": 296
        }
      },
      "source": [
        "train_loss_list, valid_loss_list, global_steps_list = load_metrics(destination_folder + '/metrics.pt')\n",
        "plt.plot(global_steps_list, train_loss_list, label='Train')\n",
        "plt.plot(global_steps_list, valid_loss_list, label='Valid')\n",
        "plt.xlabel('Global Steps')\n",
        "plt.ylabel('Loss')\n",
        "plt.legend()\n",
        "plt.show() "
      ],
      "execution_count": null,
      "outputs": [
        {
          "output_type": "stream",
          "text": [
            "Model loaded from <== /content/drive/My Drive/Colab Notebooks/Fake Real Tweets/metrics.pt\n"
          ],
          "name": "stdout"
        },
        {
          "output_type": "display_data",
          "data": {
            "image/png": "[encoded data removed]",
            "text/plain": [
              "<Figure size 432x288 with 1 Axes>"
            ]
          },
          "metadata": {
            "tags": [],
            "needs_background": "light"
          }
        }
      ]
    },
    {
      "cell_type": "code",
      "metadata": {
        "id": "LzjlU_fizAtj",
        "outputId": "6edb5043-390c-4116-8f39-a9e087fbaba2",
        "colab": {
          "base_uri": "https://localhost:8080/",
          "height": 482
        }
      },
      "source": [
        "def evaluate(model, test_loader, version='title', threshold=0.5):\n",
        "    y_pred = []\n",
        "    y_true = []\n",
        "\n",
        "    model.eval()\n",
        "    with torch.no_grad():\n",
        "        for (labels, (title, title_len), (text, text_len), (titletext, titletext_len)), _ in test_loader:           \n",
        "            labels = labels.to(device)\n",
        "            titletext = titletext.to(device)\n",
        "            titletext_len = titletext_len.to(device)\n",
        "            output = model(titletext, titletext_len)\n",
        "\n",
        "            output = (output > threshold).int()\n",
        "            y_pred.extend(output.tolist())\n",
        "            y_true.extend(labels.tolist())\n",
        "    \n",
        "    print('Classification Report:')\n",
        "    print(classification_report(y_true, y_pred, labels=[1,0], digits=4))\n",
        "    \n",
        "    cm = confusion_matrix(y_true, y_pred, labels=[1,0])\n",
        "    ax= plt.subplot()\n",
        "    sns.heatmap(cm, annot=True, ax = ax, cmap='Blues', fmt=\"d\")\n",
        "\n",
        "    ax.set_title('Confusion Matrix')\n",
        "\n",
        "    ax.set_xlabel('Predicted Labels')\n",
        "    ax.set_ylabel('True Labels')\n",
        "\n",
        "    ax.xaxis.set_ticklabels(['FAKE', 'REAL'])\n",
        "    ax.yaxis.set_ticklabels(['FAKE', 'REAL'])\n",
        "    \n",
        "    \n",
        "best_model = LSTM().to(device)\n",
        "optimizer = optim.Adam(best_model.parameters(), lr=0.001)\n",
        "\n",
        "load_checkpoint(destination_folder + '/model.pt', best_model)\n",
        "evaluate(best_model, test_iter)"
      ],
      "execution_count": null,
      "outputs": [
        {
          "output_type": "stream",
          "text": [
            "Model loaded from <== /content/drive/My Drive/Colab Notebooks/Fake Real Tweets/model.pt\n",
            "Classification Report:\n",
            "              precision    recall  f1-score   support\n",
            "\n",
            "           1     0.7343    0.7539    0.7440      2816\n",
            "           0     0.7506    0.7309    0.7406      2854\n",
            "\n",
            "    accuracy                         0.7423      5670\n",
            "   macro avg     0.7425    0.7424    0.7423      5670\n",
            "weighted avg     0.7425    0.7423    0.7423      5670\n",
            "\n"
          ],
          "name": "stdout"
        },
        {
          "output_type": "display_data",
          "data": {
            "image/png": "[encoded data removed]",
            "text/plain": [
              "<Figure size 432x288 with 2 Axes>"
            ]
          },
          "metadata": {
            "tags": [],
            "needs_background": "light"
          }
        }
      ]
    }
  ]
}